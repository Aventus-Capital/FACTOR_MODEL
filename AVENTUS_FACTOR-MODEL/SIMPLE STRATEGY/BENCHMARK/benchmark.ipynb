{
 "cells": [
  {
   "cell_type": "code",
   "execution_count": 1,
   "id": "d2fbdfda",
   "metadata": {},
   "outputs": [],
   "source": [
    "import pandas as pd\n",
    "import numpy as np"
   ]
  },
  {
   "cell_type": "code",
   "execution_count": 2,
   "id": "b456c1b9",
   "metadata": {},
   "outputs": [],
   "source": [
    "# # Skip the first three rows which contain metadata or headers\n",
    "# df = pd.read_excel(\"BSE 500.xlsx\", skiprows=3)\n",
    "\n",
    "# # Convert the date column to datetime\n",
    "# df['BDP_Date'] = pd.to_datetime(df['BDP_Date'])\n",
    "\n",
    "# # Filter for the required date range\n",
    "# start_date = pd.to_datetime(\"2009-04-01\")\n",
    "# end_date = pd.to_datetime(\"2012-04-01\")\n",
    "\n",
    "# # Sort by date to make sure it's in chronological order\n",
    "# df_sorted = df.sort_values(by='BDP_Date')\n",
    "\n",
    "# # Get the closest available data on or after the start and end dates\n",
    "# start_row = df_sorted[df_sorted['BDP_Date'] >= start_date].iloc[0]\n",
    "# end_row = df_sorted[df_sorted['BDP_Date'] >= end_date].iloc[0]\n",
    "\n",
    "# # Extract close prices\n",
    "# start_price = start_row['BDP_Close']\n",
    "# end_price = end_row['BDP_Close']\n",
    "\n",
    "# # Calculate CAGR\n",
    "# num_years = (end_row['BDP_Date'] - start_row['BDP_Date']).days / 365.25\n",
    "# cagr = ((end_price / start_price) ** (1 / num_years)) - 1\n",
    "\n",
    "# (start_row['BDP_Date'], start_price, end_row['BDP_Date'], end_price, num_years, cagr)\n"
   ]
  },
  {
   "cell_type": "code",
   "execution_count": null,
   "id": "ca538c4e",
   "metadata": {},
   "outputs": [],
   "source": [
    "import pandas as pd\n",
    "\n",
    "df = pd.read_excel(\"BSE_500_N.xlsx\")\n",
    "df['BDP_Date'] = pd.to_datetime(df['BDP_Date'])\n",
    "df_sorted = df.sort_values(by='BDP_Date', ascending=True)\n",
    "df_sorted.head()\n",
    "\n",
    "df_sorted.set_index('BDP_Date', inplace=True)\n",
    "pct_change_df = df_sorted.pct_change() \n",
    "pct_change_df = pct_change_df.iloc[1:] \n",
    "pct_change_df = pct_change_df.reset_index()\n",
    "pct_change_df.head()\n",
    "\n",
    "pct_change_df.to_csv(\"BSE500_PCTRETURNS_06-25.csv\",index=False)"
   ]
  },
  {
   "cell_type": "code",
   "execution_count": null,
   "id": "88421cb6",
   "metadata": {},
   "outputs": [],
   "source": []
  }
 ],
 "metadata": {
  "kernelspec": {
   "display_name": "Python 3",
   "language": "python",
   "name": "python3"
  },
  "language_info": {
   "codemirror_mode": {
    "name": "ipython",
    "version": 3
   },
   "file_extension": ".py",
   "mimetype": "text/x-python",
   "name": "python",
   "nbconvert_exporter": "python",
   "pygments_lexer": "ipython3",
   "version": "3.10.7"
  }
 },
 "nbformat": 4,
 "nbformat_minor": 5
}
